{
 "cells": [
  {
   "cell_type": "markdown",
   "id": "754dd4ea",
   "metadata": {},
   "source": [
    "# MERGE SORT IN PYTHON"
   ]
  },
  {
   "cell_type": "code",
   "execution_count": 33,
   "id": "e78f8216",
   "metadata": {},
   "outputs": [],
   "source": [
    "def MergeSort(arr):  # main function \n",
    "    if len(arr)>1:\n",
    "        mid=len(arr)//2\n",
    "        L=arr[:mid]\n",
    "        R=arr[mid:]\n",
    "        MergeSort(L)\n",
    "        MergeSort(R)\n",
    "        i=j=k=0\n",
    "        while i<len(L) and j<len(R):\n",
    "            if L[i]>R[j]:\n",
    "                arr[k]=R[j]\n",
    "                j+=1\n",
    "            else:\n",
    "                arr[k]=L[i]\n",
    "                i+=1\n",
    "            k=k+1\n",
    "        while i<len(L):\n",
    "            arr[k]=L[i]\n",
    "            i+=1 \n",
    "            k+=1\n",
    "        while j<len(R):\n",
    "            arr[k]=R[j]\n",
    "            j+=1\n",
    "            k+=1\n",
    "  \n",
    "    \n",
    "    \n",
    "   "
   ]
  },
  {
   "cell_type": "code",
   "execution_count": 38,
   "id": "91404a9e",
   "metadata": {},
   "outputs": [],
   "source": [
    "def printList(arr): # function to print list\n",
    "    for i in range(len(arr)):\n",
    "        print(arr[i],end=\" \")\n",
    "    print()"
   ]
  },
  {
   "cell_type": "code",
   "execution_count": 40,
   "id": "18830dab",
   "metadata": {},
   "outputs": [
    {
     "name": "stdout",
     "output_type": "stream",
     "text": [
      "9 10 11 90 100 110 \n"
     ]
    }
   ],
   "source": [
    "# Example\n",
    "\n",
    "arr=[100,10,90,9,110,11]\n",
    "MergeSort(arr)\n",
    "printList(arr)"
   ]
  },
  {
   "cell_type": "code",
   "execution_count": 41,
   "id": "9ab93d2d",
   "metadata": {},
   "outputs": [
    {
     "name": "stdout",
     "output_type": "stream",
     "text": [
      "enter the number of element in the array5\n",
      "enter the elements100\n",
      "enter the elements10\n",
      "enter the elements90\n",
      "enter the elements9\n",
      "enter the elements5\n",
      "[100, 10, 90, 9, 5]\n",
      "5 9 10 90 100 \n"
     ]
    }
   ],
   "source": [
    "#Example\n",
    "\n",
    "arr=[]\n",
    "n=int(input(\"enter the number of element in the array\"))\n",
    "for i in range(n):\n",
    "    element=int(input(\"enter the elements\"))\n",
    "    arr.append(element)\n",
    "print(arr)\n",
    "MergeSort(arr)\n",
    "printList(arr)\n"
   ]
  }
 ],
 "metadata": {
  "kernelspec": {
   "display_name": "Python 3",
   "language": "python",
   "name": "python3"
  },
  "language_info": {
   "codemirror_mode": {
    "name": "ipython",
    "version": 3
   },
   "file_extension": ".py",
   "mimetype": "text/x-python",
   "name": "python",
   "nbconvert_exporter": "python",
   "pygments_lexer": "ipython3",
   "version": "3.8.8"
  }
 },
 "nbformat": 4,
 "nbformat_minor": 5
}
